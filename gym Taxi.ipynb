{
 "cells": [
  {
   "cell_type": "code",
   "execution_count": 25,
   "id": "78ffb09d",
   "metadata": {},
   "outputs": [],
   "source": [
    "import gym\n",
    "import numpy as np\n",
    "import random\n",
    "import matplotlib.pyplot as plt\n",
    "from IPython.display import clear_output\n",
    "import time"
   ]
  },
  {
   "cell_type": "code",
   "execution_count": 26,
   "id": "6da2f723",
   "metadata": {},
   "outputs": [],
   "source": [
    "env = gym.make(\"Taxi-v3\").env"
   ]
  },
  {
   "cell_type": "code",
   "execution_count": 27,
   "id": "25aeaa4c",
   "metadata": {},
   "outputs": [],
   "source": [
    "Q_Table = np.zeros((env.observation_space.n,env.action_space.n))\n",
    "episode_number = 10000"
   ]
  },
  {
   "cell_type": "code",
   "execution_count": 28,
   "id": "69540787",
   "metadata": {},
   "outputs": [],
   "source": [
    "alpha = 0.1\n",
    "gamma = 0.9\n",
    "epsilon = 0.2"
   ]
  },
  {
   "cell_type": "code",
   "execution_count": 29,
   "id": "ec5c070f",
   "metadata": {},
   "outputs": [],
   "source": [
    "reward_list = []\n",
    "for episode in range(episode_number):\n",
    "    reward_count = 0\n",
    "    dropouts = 0\n",
    "    \n",
    "    state = env.reset()\n",
    "    while True:\n",
    "        \n",
    "        if random.uniform(0,1) < epsilon:\n",
    "            action = env.action_space.sample()\n",
    "        else:\n",
    "            action = np.argmax(Q_Table[state])\n",
    "            \n",
    "        next_state, reward, done, _ = env.step(action)\n",
    "        next_state_max_Q = np.max(Q_Table[next_state])\n",
    "        \n",
    "        old_value = Q_Table[state,action]\n",
    "        new_value = (1-alpha)*old_value + alpha*(reward + gamma*next_state_max_Q)\n",
    "        \n",
    "        Q_Table[state,action] = new_value\n",
    "        state = next_state\n",
    "        \n",
    "        if reward == -10:\n",
    "            dropouts += 1\n",
    "        reward_count += reward\n",
    "        if done:\n",
    "            break\n",
    "    if episode%10 == 0:\n",
    "        reward_list.append(reward_count)"
   ]
  },
  {
   "cell_type": "code",
   "execution_count": 30,
   "id": "2598b5bd",
   "metadata": {},
   "outputs": [
    {
     "data": {
      "image/png": "[encoded data removed]",
      "text/plain": [
       "<Figure size 432x288 with 1 Axes>"
      ]
     },
     "metadata": {
      "needs_background": "light"
     },
     "output_type": "display_data"
    }
   ],
   "source": [
    "plt.plot(reward_list)\n",
    "plt.show()"
   ]
  },
  {
   "cell_type": "code",
   "execution_count": null,
   "id": "1e729766",
   "metadata": {},
   "outputs": [
    {
     "name": "stdout",
     "output_type": "stream",
     "text": [
      "Episode number 3 Step 5\n",
      "+---------+\n",
      "|\u001b[34;1mR\u001b[0m: | : :G|\n",
      "|\u001b[43m \u001b[0m: | : : |\n",
      "| : : : : |\n",
      "| | : | : |\n",
      "|Y| : |\u001b[35mB\u001b[0m: |\n",
      "+---------+\n",
      "  (West)\n",
      "\n"
     ]
    }
   ],
   "source": [
    "for episode in range(1, 11):\n",
    "    state = env.reset()\n",
    "    \n",
    "    episode_length = 0\n",
    "    while True:\n",
    "        action = np.argmax(Q_Table[state])\n",
    "        next_state, reward, done, info = env.step(action)\n",
    "        clear_output(wait=True)\n",
    "        print(\"Episode number {} Step {}\".format(episode, episode_length))\n",
    "        print(env.render(mode=\"ansi\"))\n",
    "        time.sleep(.5)\n",
    "        state = next_state\n",
    "        episode_length +=1\n",
    "        if done:\n",
    "            break\n",
    "        "
   ]
  },
  {
   "cell_type": "code",
   "execution_count": null,
   "id": "8d599a0e",
   "metadata": {},
   "outputs": [],
   "source": []
  }
 ],
 "metadata": {
  "kernelspec": {
   "display_name": "Python 3 (ipykernel)",
   "language": "python",
   "name": "python3"
  },
  "language_info": {
   "codemirror_mode": {
    "name": "ipython",
    "version": 3
   },
   "file_extension": ".py",
   "mimetype": "text/x-python",
   "name": "python",
   "nbconvert_exporter": "python",
   "pygments_lexer": "ipython3",
   "version": "3.8.11"
  }
 },
 "nbformat": 4,
 "nbformat_minor": 5
}
